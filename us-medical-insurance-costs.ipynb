{
 "cells": [
  {
   "attachments": {},
   "cell_type": "markdown",
   "metadata": {},
   "source": [
    "# U.S. Medical Insurance Costs\n",
    "\n",
    "## Tasks\n",
    "\n",
    "[x] Import a dataset into your program\n",
    "- Analyze a dataset by building out functions or class methods\n",
    "- Use libraries to assist in your analysis\n",
    "- Optional: Document and organize your findings\n",
    "- Optional: Make predictions about a dataset’s features based on your findings\n",
    "\n",
    "## Scoping Your Project\n",
    "\n",
    "### Preparation\n",
    "\n",
    "[x] check the data\n",
    "    - check for missing data\n",
    "    - clean the data\n",
    "        - convert _nominal_ and _ordinal_ data from `str` to `int` (e.g. _binary_ (_nominal_) `sex` data to `0` or `1`)[1^]\n",
    "[^1]: The Pandas Category Data Type\n",
    "When working with categorical variables in Python, especially ordinal categorical variables, it can often be advantageous to use the Pandas specific category datatype, which allows you to store category names with associated values and rankings.\n",
    "\n",
    "### Exploration\n",
    "\n",
    "- [ ] analyse data by the means of descriptive statistics\n",
    "    - e.g. mean, min, max, median, mean, Boxplot  \n",
    "\n",
    "### Exploitation\n",
    "\n",
    "- [ ] check for by the means of exploratory statistics\n",
    "    - check for linear correlations R^2\n",
    "    - graph and chart data\n",
    "    - make a (machine learning) model \n",
    "\n",
    "\n",
    "\n",
    "\n"
   ]
  },
  {
   "attachments": {},
   "cell_type": "markdown",
   "metadata": {},
   "source": []
  },
  {
   "attachments": {},
   "cell_type": "markdown",
   "metadata": {},
   "source": [
    "#### Import a dataset into your program\n",
    "1. check whether are headers available"
   ]
  },
  {
   "cell_type": "code",
   "execution_count": 95,
   "metadata": {},
   "outputs": [
    {
     "name": "stdout",
     "output_type": "stream",
     "text": [
      "True\n"
     ]
    }
   ],
   "source": [
    "import csv\n",
    "\n",
    "with open('insurance.csv',mode='r',newline='') as insurance_csv:\n",
    "    sniffer = csv.Sniffer()\n",
    "    insurance_reader = insurance_csv.read()\n",
    "    has_header = sniffer.has_header(insurance_reader)\n",
    "    print(has_header)"
   ]
  },
  {
   "attachments": {},
   "cell_type": "markdown",
   "metadata": {},
   "source": [
    "2. read the csv file"
   ]
  },
  {
   "cell_type": "code",
   "execution_count": 96,
   "metadata": {},
   "outputs": [
    {
     "name": "stdout",
     "output_type": "stream",
     "text": [
      "first rows of source data:\n",
      "[{'age': '19', 'sex': 'female', 'bmi': '27.9', 'children': '0', 'smoker': 'yes', 'region': 'southwest', 'charges': '16884.924'}]\n",
      "Total of 0 instances is missing in the source data\n"
     ]
    }
   ],
   "source": [
    "with open('insurance.csv',mode='r',newline='') as insurance_csv:\n",
    "  reader = csv.DictReader(insurance_csv, restval=None)\n",
    "\n",
    "  insurance_data = []\n",
    "  for row in reader:\n",
    "    insurance_data.append(row)\n",
    "  print('first rows of source data:')\n",
    "  print(insurance_data[:1])\n",
    "\n",
    "# test = [{'height':20},{None:True},{'age':None}]\n",
    "count_missing_data = 0\n",
    "for dict in insurance_data:\n",
    "  if None in dict.values():\n",
    "      count_missing_data += 1\n",
    "\n",
    "print('Total of {} instances is missing in the source data'.format(count_missing_data))"
   ]
  },
  {
   "attachments": {},
   "cell_type": "markdown",
   "metadata": {},
   "source": [
    "3. clean the data\n",
    "- convert _nominal_ and _ordinal_ data from `str` to `int` (e.g. _binary_ (_nominal_) `sex` data to `0` or `1`)[1^]"
   ]
  },
  {
   "cell_type": "code",
   "execution_count": 97,
   "metadata": {},
   "outputs": [
    {
     "name": "stdout",
     "output_type": "stream",
     "text": [
      "[{'age': '19', 'sex': 1, 'bmi': '27.9', 'children': '0', 'smoker': 1, 'region': 'southwest', 'charges': '16884.924'}, {'age': '18', 'sex': 0, 'bmi': '33.77', 'children': '1', 'smoker': 0, 'region': 'southeast', 'charges': '1725.5523'}, {'age': '28', 'sex': 0, 'bmi': '33', 'children': '3', 'smoker': 0, 'region': 'southeast', 'charges': '4449.462'}, {'age': '33', 'sex': 0, 'bmi': '22.705', 'children': '0', 'smoker': 0, 'region': 'northwest', 'charges': '21984.47061'}, {'age': '32', 'sex': 0, 'bmi': '28.88', 'children': '0', 'smoker': 0, 'region': 'northwest', 'charges': '3866.8552'}, {'age': '31', 'sex': 1, 'bmi': '25.74', 'children': '0', 'smoker': 0, 'region': 'southeast', 'charges': '3756.6216'}, {'age': '46', 'sex': 1, 'bmi': '33.44', 'children': '1', 'smoker': 0, 'region': 'southeast', 'charges': '8240.5896'}, {'age': '37', 'sex': 1, 'bmi': '27.74', 'children': '3', 'smoker': 0, 'region': 'northwest', 'charges': '7281.5056'}, {'age': '37', 'sex': 0, 'bmi': '29.83', 'children': '2', 'smoker': 0, 'region': 'northeast', 'charges': '6406.4107'}, {'age': '60', 'sex': 1, 'bmi': '25.84', 'children': '0', 'smoker': 0, 'region': 'northwest', 'charges': '28923.13692'}]\n"
     ]
    }
   ],
   "source": [
    "sex_mapping = {\n",
    "    'category': 'sex',\n",
    "    'male': 0,\n",
    "    'female' : 1\n",
    "}\n",
    "\n",
    "smoker_mapping = {\n",
    "    'category': 'smoker',\n",
    "    'yes': 1,\n",
    "    'no' : 0\n",
    "}\n",
    "\n",
    "def convert_nominal_to_int(in_data:list, mapping:dict) -> list:\n",
    "    for datum in in_data:\n",
    "        key = mapping['category']\n",
    "        in_value = datum[key]\n",
    "        out_value = mapping[in_value]\n",
    "        \n",
    "        datum[key] = out_value\n",
    "\n",
    "convert_nominal_to_int(insurance_data,sex_mapping)\n",
    "convert_nominal_to_int(insurance_data,smoker_mapping)\n",
    "\n",
    "print(insurance_data[0:10])"
   ]
  },
  {
   "cell_type": "code",
   "execution_count": 98,
   "metadata": {},
   "outputs": [
    {
     "name": "stdout",
     "output_type": "stream",
     "text": [
      "[{'age': 19.0, 'sex': 1, 'bmi': 27.9, 'children': '0', 'smoker': 1, 'region': 'southwest', 'charges': 16884.924}, {'age': 18.0, 'sex': 0, 'bmi': 33.77, 'children': '1', 'smoker': 0, 'region': 'southeast', 'charges': 1725.5523}, {'age': 28.0, 'sex': 0, 'bmi': 33.0, 'children': '3', 'smoker': 0, 'region': 'southeast', 'charges': 4449.462}, {'age': 33.0, 'sex': 0, 'bmi': 22.705, 'children': '0', 'smoker': 0, 'region': 'northwest', 'charges': 21984.47061}, {'age': 32.0, 'sex': 0, 'bmi': 28.88, 'children': '0', 'smoker': 0, 'region': 'northwest', 'charges': 3866.8552}, {'age': 31.0, 'sex': 1, 'bmi': 25.74, 'children': '0', 'smoker': 0, 'region': 'southeast', 'charges': 3756.6216}, {'age': 46.0, 'sex': 1, 'bmi': 33.44, 'children': '1', 'smoker': 0, 'region': 'southeast', 'charges': 8240.5896}, {'age': 37.0, 'sex': 1, 'bmi': 27.74, 'children': '3', 'smoker': 0, 'region': 'northwest', 'charges': 7281.5056}, {'age': 37.0, 'sex': 0, 'bmi': 29.83, 'children': '2', 'smoker': 0, 'region': 'northeast', 'charges': 6406.4107}, {'age': 60.0, 'sex': 1, 'bmi': 25.84, 'children': '0', 'smoker': 0, 'region': 'northwest', 'charges': 28923.13692}]\n"
     ]
    }
   ],
   "source": [
    "def change_type(in_data:list, category: str, out_type: 'function') -> list:\n",
    "    for datum in in_data:\n",
    "        key = category\n",
    "        in_value = datum[key]\n",
    "        out_value = out_type(in_value)\n",
    "\n",
    "        datum[key] = out_value\n",
    "\n",
    "change_type(insurance_data, 'age', float)\n",
    "change_type(insurance_data, 'bmi', float)\n",
    "change_type(insurance_data, 'charges', float)\n",
    "\n",
    "print(insurance_data[0:10])"
   ]
  },
  {
   "cell_type": "code",
   "execution_count": null,
   "metadata": {},
   "outputs": [],
   "source": []
  },
  {
   "attachments": {},
   "cell_type": "markdown",
   "metadata": {},
   "source": [
    "#### Analyze a dataset by building out functions or class methods"
   ]
  },
  {
   "cell_type": "code",
   "execution_count": 113,
   "metadata": {},
   "outputs": [
    {
     "name": "stdout",
     "output_type": "stream",
     "text": [
      "The maximum value for the bmi is 53.13 in the datum [{'age': 18.0, 'sex': 0, 'bmi': 53.13, 'children': '0', 'smoker': 0, 'region': 'southeast', 'charges': 1163.4627}]\n",
      "The maximum value for the age is 64.0 in the datum [{'age': 64.0, 'sex': 0, 'bmi': 24.7, 'children': '1', 'smoker': 0, 'region': 'northwest', 'charges': 30166.61817}, {'age': 64.0, 'sex': 1, 'bmi': 31.3, 'children': '2', 'smoker': 1, 'region': 'southwest', 'charges': 47291.055}, {'age': 64.0, 'sex': 1, 'bmi': 39.33, 'children': '0', 'smoker': 0, 'region': 'northeast', 'charges': 14901.5167}, {'age': 64.0, 'sex': 1, 'bmi': 33.8, 'children': '1', 'smoker': 1, 'region': 'southwest', 'charges': 47928.03}, {'age': 64.0, 'sex': 0, 'bmi': 34.5, 'children': '0', 'smoker': 0, 'region': 'southwest', 'charges': 13822.803}, {'age': 64.0, 'sex': 1, 'bmi': 30.115, 'children': '3', 'smoker': 0, 'region': 'northwest', 'charges': 16455.70785}, {'age': 64.0, 'sex': 0, 'bmi': 25.6, 'children': '2', 'smoker': 0, 'region': 'southwest', 'charges': 14988.432}, {'age': 64.0, 'sex': 1, 'bmi': 32.965, 'children': '0', 'smoker': 0, 'region': 'northwest', 'charges': 14692.66935}, {'age': 64.0, 'sex': 0, 'bmi': 39.16, 'children': '1', 'smoker': 0, 'region': 'southeast', 'charges': 14418.2804}, {'age': 64.0, 'sex': 0, 'bmi': 33.88, 'children': '0', 'smoker': 1, 'region': 'southeast', 'charges': 46889.2612}, {'age': 64.0, 'sex': 0, 'bmi': 40.48, 'children': '0', 'smoker': 0, 'region': 'southeast', 'charges': 13831.1152}, {'age': 64.0, 'sex': 1, 'bmi': 39.05, 'children': '3', 'smoker': 0, 'region': 'southeast', 'charges': 16085.1275}, {'age': 64.0, 'sex': 0, 'bmi': 38.19, 'children': '0', 'smoker': 0, 'region': 'northeast', 'charges': 14410.9321}, {'age': 64.0, 'sex': 1, 'bmi': 22.99, 'children': '0', 'smoker': 1, 'region': 'southeast', 'charges': 27037.9141}, {'age': 64.0, 'sex': 0, 'bmi': 37.905, 'children': '0', 'smoker': 0, 'region': 'northwest', 'charges': 14210.53595}, {'age': 64.0, 'sex': 1, 'bmi': 39.7, 'children': '0', 'smoker': 0, 'region': 'southwest', 'charges': 14319.031}, {'age': 64.0, 'sex': 1, 'bmi': 35.97, 'children': '0', 'smoker': 0, 'region': 'southeast', 'charges': 14313.8463}, {'age': 64.0, 'sex': 1, 'bmi': 31.825, 'children': '2', 'smoker': 0, 'region': 'northeast', 'charges': 16069.08475}, {'age': 64.0, 'sex': 1, 'bmi': 26.885, 'children': '0', 'smoker': 1, 'region': 'northwest', 'charges': 29330.98315}, {'age': 64.0, 'sex': 0, 'bmi': 26.41, 'children': '0', 'smoker': 0, 'region': 'northeast', 'charges': 14394.5579}, {'age': 64.0, 'sex': 0, 'bmi': 36.96, 'children': '2', 'smoker': 1, 'region': 'southeast', 'charges': 49577.6624}, {'age': 64.0, 'sex': 0, 'bmi': 23.76, 'children': '0', 'smoker': 1, 'region': 'southeast', 'charges': 26926.5144}]\n",
      "The minimum value for the bmi is 15.96 for exampel in the datum {'age': 18.0, 'sex': 0, 'bmi': 15.96, 'children': '0', 'smoker': 0, 'region': 'northeast', 'charges': 1694.7964}\n",
      "The minimum value for the age is 18.0 for exampel in the datum {'age': 18.0, 'sex': 0, 'bmi': 33.77, 'children': '1', 'smoker': 0, 'region': 'southeast', 'charges': 1725.5523}\n"
     ]
    }
   ],
   "source": [
    "def find_max_list(data:list,category:str) -> list:\n",
    "    max_value = 0\n",
    "    max_datum = []\n",
    "    for datum in data:\n",
    "        value = datum[category]\n",
    "        if value > max_value:\n",
    "            max_datum = [datum]\n",
    "            max_value = value\n",
    "        elif value == max_value:\n",
    "            max_datum.append(datum)\n",
    "\n",
    "\n",
    "    print('The maximum value for the {category} is {max_value} in the datum {max_datum}'.format(category = category, max_value = max_value, max_datum = max_datum))\n",
    "    return max_datum\n",
    "\n",
    "\n",
    "find_max_list(data = insurance_data, category = 'bmi')\n",
    "find_max_list(data = insurance_data, category = 'age')\n",
    "\n",
    "def find_min_single(data:list,category:str) -> dict:\n",
    "    min_datum = min(data, key = lambda datum: datum[category])\n",
    "    min_value = min_datum[category]\n",
    "    # min_value = min(iterable = data, key = lambda datum: datum[category])\n",
    "    \n",
    "    print('The minimum value for the {category} is {min_value} for exampel in the datum {min_datum}'.format(category = category, min_value = min_value, min_datum = min_datum))\n",
    "\n",
    "find_min_single(data = insurance_data, category = 'bmi')\n",
    "find_min_single(data = insurance_data, category = 'age')\n",
    "\n"
   ]
  },
  {
   "cell_type": "code",
   "execution_count": null,
   "metadata": {},
   "outputs": [],
   "source": [
    "import pandas as pd\n",
    "import numpy as np\n",
    "import plotly as pl"
   ]
  },
  {
   "cell_type": "code",
   "execution_count": null,
   "metadata": {},
   "outputs": [],
   "source": []
  }
 ],
 "metadata": {
  "kernelspec": {
   "display_name": "Python 3",
   "language": "python",
   "name": "python3"
  },
  "language_info": {
   "codemirror_mode": {
    "name": "ipython",
    "version": 3
   },
   "file_extension": ".py",
   "mimetype": "text/x-python",
   "name": "python",
   "nbconvert_exporter": "python",
   "pygments_lexer": "ipython3",
   "version": "3.9.13"
  }
 },
 "nbformat": 4,
 "nbformat_minor": 4
}
