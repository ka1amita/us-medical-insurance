{
 "cells": [
  {
   "attachments": {},
   "cell_type": "markdown",
   "metadata": {},
   "source": [
    "# U.S. Medical Insurance Costs\n",
    "\n",
    "## Tasks\n",
    "\n",
    "[x] Import a dataset into your program\n",
    "- Analyze a dataset by building out functions or class methods\n",
    "- Use libraries to assist in your analysis\n",
    "- Optional: Document and organize your findings\n",
    "- Optional: Make predictions about a dataset’s features based on your findings\n",
    "\n",
    "## Scoping Your Project\n",
    "\n",
    "### Preparation\n",
    "\n",
    "[x] check the data\n",
    "    - check for missing data\n",
    "    - clean the data\n",
    "        - convert _nominal_ and _ordinal_ data from `str` to `int` (e.g. _binary_ (_nominal_) `sex` data to `0` or `1`)[1^]\n",
    "[^1]: The Pandas Category Data Type\n",
    "When working with categorical variables in Python, especially ordinal categorical variables, it can often be advantageous to use the Pandas specific category datatype, which allows you to store category names with associated values and rankings.\n",
    "\n",
    "### Exploration\n",
    "\n",
    "- [ ] analyse data by the means of descriptive statistics\n",
    "    - e.g. mean, min, max, median, mean, Boxplot  \n",
    "\n",
    "### Exploitation\n",
    "\n",
    "- [ ] check for by the means of exploratory statistics\n",
    "    - check for linear correlations R^2\n",
    "    - graph and chart data\n",
    "    - make a (machine learning) model \n",
    "\n",
    "\n",
    "\n",
    "\n"
   ]
  },
  {
   "cell_type": "code",
   "execution_count": null,
   "metadata": {},
   "outputs": [],
   "source": []
  },
  {
   "attachments": {},
   "cell_type": "markdown",
   "metadata": {},
   "source": []
  },
  {
   "attachments": {},
   "cell_type": "markdown",
   "metadata": {},
   "source": [
    "#### Import a dataset into your program\n",
    "1. check whether headers are available"
   ]
  },
  {
   "cell_type": "code",
   "execution_count": 179,
   "metadata": {},
   "outputs": [
    {
     "name": "stdout",
     "output_type": "stream",
     "text": [
      "True\n"
     ]
    }
   ],
   "source": [
    "import csv\n",
    "\n",
    "with open('insurance.csv',mode='r',newline='') as insurance_csv:\n",
    "    sniffer = csv.Sniffer()\n",
    "    insurance_reader = insurance_csv.read()\n",
    "    has_header = sniffer.has_header(insurance_reader)\n",
    "    print(has_header)"
   ]
  },
  {
   "attachments": {},
   "cell_type": "markdown",
   "metadata": {},
   "source": [
    "2. read the csv file"
   ]
  },
  {
   "cell_type": "code",
   "execution_count": 180,
   "metadata": {},
   "outputs": [
    {
     "name": "stdout",
     "output_type": "stream",
     "text": [
      "first rows of source data:  [{'age': '19', 'sex': 'female', 'bmi': '27.9', 'children': '0', 'smoker': 'yes', 'region': 'southwest', 'charges': '16884.924'}]\n",
      "Total of 0 instances is missing in the source data\n"
     ]
    }
   ],
   "source": [
    "with open('insurance.csv',mode='r',newline='') as insurance_csv:\n",
    "  reader = csv.DictReader(insurance_csv, restval=None)\n",
    "  insurance_data = []\n",
    "  for row in reader:\n",
    "    insurance_data.append(row)\n",
    "  print('first rows of source data: ', insurance_data[:1])\n",
    "\n",
    "# test = [{'height':20},{None:True},{'age':None}]\n",
    "count_missing_data = 0\n",
    "for dict in insurance_data:\n",
    "  if None in dict.values():\n",
    "      count_missing_data += 1\n",
    "\n",
    "print('Total of {} instances is missing in the source data'.format(count_missing_data))\n"
   ]
  },
  {
   "attachments": {},
   "cell_type": "markdown",
   "metadata": {},
   "source": [
    "3. clean the data\n",
    "- convert _nominal_ and _ordinal_ data from `str` to `int` (e.g. _binary_ (_nominal_) `sex` data to `0` or `1`)[1^]"
   ]
  },
  {
   "cell_type": "code",
   "execution_count": 181,
   "metadata": {},
   "outputs": [
    {
     "name": "stdout",
     "output_type": "stream",
     "text": [
      "[{'age': '19', 'sex': 1, 'bmi': '27.9', 'children': '0', 'smoker': 1, 'region': 'southwest', 'charges': '16884.924'}, {'age': '18', 'sex': 0, 'bmi': '33.77', 'children': '1', 'smoker': 0, 'region': 'southeast', 'charges': '1725.5523'}, {'age': '28', 'sex': 0, 'bmi': '33', 'children': '3', 'smoker': 0, 'region': 'southeast', 'charges': '4449.462'}, {'age': '33', 'sex': 0, 'bmi': '22.705', 'children': '0', 'smoker': 0, 'region': 'northwest', 'charges': '21984.47061'}, {'age': '32', 'sex': 0, 'bmi': '28.88', 'children': '0', 'smoker': 0, 'region': 'northwest', 'charges': '3866.8552'}, {'age': '31', 'sex': 1, 'bmi': '25.74', 'children': '0', 'smoker': 0, 'region': 'southeast', 'charges': '3756.6216'}, {'age': '46', 'sex': 1, 'bmi': '33.44', 'children': '1', 'smoker': 0, 'region': 'southeast', 'charges': '8240.5896'}, {'age': '37', 'sex': 1, 'bmi': '27.74', 'children': '3', 'smoker': 0, 'region': 'northwest', 'charges': '7281.5056'}, {'age': '37', 'sex': 0, 'bmi': '29.83', 'children': '2', 'smoker': 0, 'region': 'northeast', 'charges': '6406.4107'}, {'age': '60', 'sex': 1, 'bmi': '25.84', 'children': '0', 'smoker': 0, 'region': 'northwest', 'charges': '28923.13692'}]\n"
     ]
    }
   ],
   "source": [
    "sex_mapping = {\n",
    "    'category': 'sex',\n",
    "    'male': 0,\n",
    "    'female' : 1\n",
    "}\n",
    "\n",
    "smoker_mapping = {\n",
    "    'category': 'smoker',\n",
    "    'yes': 1,\n",
    "    'no' : 0\n",
    "}\n",
    "\n",
    "def convert_nominal_to_int(in_data:list, mapping:dict) -> list:\n",
    "    for datum in in_data:\n",
    "        key = mapping['category']\n",
    "        in_value = datum[key]\n",
    "        out_value = mapping[in_value]\n",
    "        \n",
    "        datum[key] = out_value\n",
    "\n",
    "convert_nominal_to_int(insurance_data,sex_mapping)\n",
    "convert_nominal_to_int(insurance_data,smoker_mapping)\n",
    "\n",
    "print(insurance_data[0:10])"
   ]
  },
  {
   "cell_type": "code",
   "execution_count": 182,
   "metadata": {},
   "outputs": [
    {
     "name": "stdout",
     "output_type": "stream",
     "text": [
      "[{'age': 19.0, 'sex': 1, 'bmi': 27.9, 'children': '0', 'smoker': 1, 'region': 'southwest', 'charges': 16884.924}, {'age': 18.0, 'sex': 0, 'bmi': 33.77, 'children': '1', 'smoker': 0, 'region': 'southeast', 'charges': 1725.5523}, {'age': 28.0, 'sex': 0, 'bmi': 33.0, 'children': '3', 'smoker': 0, 'region': 'southeast', 'charges': 4449.462}, {'age': 33.0, 'sex': 0, 'bmi': 22.705, 'children': '0', 'smoker': 0, 'region': 'northwest', 'charges': 21984.47061}, {'age': 32.0, 'sex': 0, 'bmi': 28.88, 'children': '0', 'smoker': 0, 'region': 'northwest', 'charges': 3866.8552}, {'age': 31.0, 'sex': 1, 'bmi': 25.74, 'children': '0', 'smoker': 0, 'region': 'southeast', 'charges': 3756.6216}, {'age': 46.0, 'sex': 1, 'bmi': 33.44, 'children': '1', 'smoker': 0, 'region': 'southeast', 'charges': 8240.5896}, {'age': 37.0, 'sex': 1, 'bmi': 27.74, 'children': '3', 'smoker': 0, 'region': 'northwest', 'charges': 7281.5056}, {'age': 37.0, 'sex': 0, 'bmi': 29.83, 'children': '2', 'smoker': 0, 'region': 'northeast', 'charges': 6406.4107}, {'age': 60.0, 'sex': 1, 'bmi': 25.84, 'children': '0', 'smoker': 0, 'region': 'northwest', 'charges': 28923.13692}]\n"
     ]
    }
   ],
   "source": [
    "def change_type(in_data:list, category: str, out_type: 'function') -> list:\n",
    "    for datum in in_data:\n",
    "        key = category\n",
    "        in_value = datum[key]\n",
    "        out_value = out_type(in_value)\n",
    "\n",
    "        datum[key] = out_value\n",
    "\n",
    "change_type(insurance_data, 'age', float) # str() didn't work; I don't know why\n",
    "change_type(insurance_data, 'bmi', float)\n",
    "change_type(insurance_data, 'charges', float)\n",
    "\n",
    "print(insurance_data[0:10])"
   ]
  },
  {
   "cell_type": "code",
   "execution_count": null,
   "metadata": {},
   "outputs": [],
   "source": []
  },
  {
   "attachments": {},
   "cell_type": "markdown",
   "metadata": {},
   "source": [
    "#### Analyze a dataset by building out functions or class methods"
   ]
  },
  {
   "attachments": {},
   "cell_type": "markdown",
   "metadata": {},
   "source": [
    "* Minimum\n",
    "* Maximum"
   ]
  },
  {
   "cell_type": "code",
   "execution_count": 205,
   "metadata": {},
   "outputs": [
    {
     "name": "stdout",
     "output_type": "stream",
     "text": [
      "The minimum value for the bmi is 15.96 for example in the datum {'age': 18.0, 'sex': 0, 'bmi': 15.96, 'children': '0', 'smoker': 0, 'region': 'northeast', 'charges': 1694.7964}\n",
      "15.96\n",
      "The maximum value for the bmi is 53.13 for example in the datum {'age': 18.0, 'sex': 0, 'bmi': 53.13, 'children': '0', 'smoker': 0, 'region': 'southeast', 'charges': 1163.4627}\n",
      "53.13\n"
     ]
    }
   ],
   "source": [
    "def find_max_single_datum(data:list,category:str) -> dict:\n",
    "    max_datum = max(data, key = lambda datum: datum[category])\n",
    "    max_value = max_datum[category]\n",
    "    # min_value = min(iterable = data, key = lambda datum: datum[category])\n",
    "    print('The maximum value for the {category} is {max_value} for example in the datum {max_datum}'.format(category = category, max_value = max_value, max_datum = max_datum))\n",
    "    return max_value\n",
    "\n",
    "def find_max_list_datum(data:list,category:str) -> list:\n",
    "    max_value = 0\n",
    "    max_datum = []\n",
    "    for datum in data:\n",
    "        value = datum[category]\n",
    "        if value > max_value:\n",
    "            max_datum = [datum]\n",
    "            max_value = value\n",
    "        elif value == max_value:\n",
    "            max_datum.append(datum)\n",
    "    print('The maximum value for the {category} is {max_value} in the datum {max_datum}'.format(category = category, max_value = max_value, max_datum = max_datum))\n",
    "    return max_value\n",
    "\n",
    "# find_max_list_datum(data = insurance_data, category = 'age')\n",
    "\n",
    "def find_min_single(data:list,category:str) -> dict:\n",
    "    min_datum = min(data, key = lambda datum: datum[category])\n",
    "    min_value = min_datum[category]\n",
    "    # min_value = min(iterable = data, key = lambda datum: datum[category])\n",
    "    print('The minimum value for the {category} is {min_value} for example in the datum {min_datum}'.format(category = category, min_value = min_value, min_datum = min_datum))\n",
    "    return min_value\n",
    "\n",
    "print(find_min_single(data = insurance_data, category = 'bmi'))\n",
    "print(find_max_single_datum(data = insurance_data, category = 'bmi'))\n",
    "\n",
    "\n"
   ]
  },
  {
   "attachments": {},
   "cell_type": "markdown",
   "metadata": {},
   "source": [
    "* Distinct values\n",
    "* Count of distinct values"
   ]
  },
  {
   "cell_type": "code",
   "execution_count": 184,
   "metadata": {},
   "outputs": [
    {
     "name": "stdout",
     "output_type": "stream",
     "text": [
      "There are 6 distinct values in children category (sorted): ['0', '1', '2', '3', '4', '5']\n",
      "['0', '1', '2', '3', '4', '5']\n"
     ]
    }
   ],
   "source": [
    "def distinct_values_sorted(data:list, category:str) -> list:\n",
    "    distinct_values = set()\n",
    "    for datum in data:\n",
    "        distinct_values.add(datum[category])\n",
    "    count_distinct = len(distinct_values)\n",
    "    distinct_values = sorted(distinct_values)\n",
    "    print('There are {count_distinct} distinct values in {category} category (sorted): {distinct_values}'.format(count_distinct=count_distinct,category=category,distinct_values=distinct_values))\n",
    "    # # if output == 'count':\n",
    "    # #     return count_distinct\n",
    "    # elif output == 'values':\n",
    "    return distinct_values\n",
    "\n",
    "print(distinct_values_sorted(insurance_data, 'children'))\n"
   ]
  },
  {
   "attachments": {},
   "cell_type": "markdown",
   "metadata": {},
   "source": [
    "* Avarage\n",
    "* Median\n",
    "* Quartiles"
   ]
  },
  {
   "cell_type": "code",
   "execution_count": 206,
   "metadata": {},
   "outputs": [
    {
     "name": "stdout",
     "output_type": "stream",
     "text": [
      "Category bmi has average of 30.7\n",
      "The 0.25 percentile of the bmi category is 26.3\n",
      "The 0.5 percentile of the bmi category is 30.4\n",
      "The 0.75 percentile of the bmi category is 34.7\n",
      "The 0 percentile of the bmi category is 16.0\n",
      "The 1 percentile of the bmi category is 53.1\n",
      "The maximum value for the bmi is 53.13 for example in the datum {'age': 18.0, 'sex': 0, 'bmi': 53.13, 'children': '0', 'smoker': 0, 'region': 'southeast', 'charges': 1163.4627}\n"
     ]
    },
    {
     "data": {
      "text/plain": [
       "53.13"
      ]
     },
     "execution_count": 206,
     "metadata": {},
     "output_type": "execute_result"
    }
   ],
   "source": [
    "#TODO decorator fot the category selection\n",
    "\n",
    "def average(data:list, category:str):\n",
    "    category_values = [datum[category] for datum in data]\n",
    "    category_sum = sum(category_values)\n",
    "    average = category_sum / len(category_values)\n",
    "    print('Category {category} has average of {average:.1f}'.format(category=category, average=average))\n",
    "    return average\n",
    "\n",
    "average(insurance_data, 'bmi')\n",
    "\n",
    "def percentile(data:list, category:str, percentile:float):\n",
    "    category_values = [datum[category] for datum in data]\n",
    "    sorted_values = sorted(category_values)\n",
    "    percentile_index = (len(data)-1) * percentile \n",
    "    percentile_value = sorted_values[round(percentile_index)]\n",
    "    print('The {percentile} percentile of the {category} category is {percentile_value:.1f}'.format(percentile=percentile, category=category, percentile_value=percentile_value))\n",
    "    \n",
    "    return percentile_value # approximation by rounding the index value\n",
    "\n",
    "percentile(insurance_data, 'bmi', 0.25)\n",
    "\n",
    "def median(data:list, category:str):\n",
    "    return percentile(data, category, percentile=0.5)\n",
    "\n",
    "median(insurance_data, 'bmi')\n",
    "\n",
    "def first_quartile(data:list, category:str):\n",
    "    return percentile(data, category, percentile=0.25)\n",
    "\n",
    "def third_quartile(data:list, category:str):\n",
    "    return percentile(data, category, percentile=0.75)\n",
    "\n",
    "third_quartile(insurance_data, 'bmi')\n",
    "\n",
    "def minimum(data:list, category:str):\n",
    "    return percentile(data, category, percentile=0)\n",
    "\n",
    "def maximum(data:list, category:str):\n",
    "    return percentile(data, category, percentile=1)\n",
    "\n",
    "minimum(insurance_data, 'bmi')\n",
    "maximum(insurance_data, 'bmi')\n",
    "find_max_single_datum(insurance_data, 'bmi')\n"
   ]
  },
  {
   "cell_type": "code",
   "execution_count": 186,
   "metadata": {},
   "outputs": [],
   "source": [
    "import pandas as pd\n",
    "import numpy as np\n",
    "import plotly as pl"
   ]
  },
  {
   "cell_type": "code",
   "execution_count": 187,
   "metadata": {},
   "outputs": [],
   "source": [
    "#TODO correlation coeffiecients, ANOVA ... model\n",
    "\n",
    "#TODO ouliers testing, robust estimators...Box plot!"
   ]
  }
 ],
 "metadata": {
  "kernelspec": {
   "display_name": "Python 3",
   "language": "python",
   "name": "python3"
  },
  "language_info": {
   "codemirror_mode": {
    "name": "ipython",
    "version": 3
   },
   "file_extension": ".py",
   "mimetype": "text/x-python",
   "name": "python",
   "nbconvert_exporter": "python",
   "pygments_lexer": "ipython3",
   "version": "3.9.13"
  }
 },
 "nbformat": 4,
 "nbformat_minor": 4
}
